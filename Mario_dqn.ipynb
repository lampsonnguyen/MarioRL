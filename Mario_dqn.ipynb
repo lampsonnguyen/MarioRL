{
 "cells": [
  {
   "cell_type": "code",
   "execution_count": 1,
   "id": "588f5cf9",
   "metadata": {},
   "outputs": [],
   "source": [
    "import gym_super_mario_bros\n",
    "from nes_py.wrappers import JoypadSpace\n",
    "import gym\n",
    "import numpy as np\n",
    "import collections \n",
    "import cv2 \n",
    "\n",
    "from gym_super_mario_bros.actions import SIMPLE_MOVEMENT\n",
    " \n",
    "# Import Frame Stacker Wrapper and GrayScaling Wrapper\n",
    "from gym.wrappers import GrayScaleObservation\n",
    "from gym.wrappers import ResizeObservation\n",
    "# Import Vectorization Wrappers\n",
    "from stable_baselines3.common.vec_env import VecFrameStack, DummyVecEnv\n",
    "# Import Matplotlib to show the impact of frame stacking\n",
    "from matplotlib import pyplot as plt\n",
    "# Inport to disply the emulator on Notebook\n",
    "from IPython import display \n",
    "# Import os for file path management\n",
    "import os \n",
    "# Import DQN for algos\n",
    "from stable_baselines3 import DQN\n",
    "# Import Base Callback for saving models\n",
    "from stable_baselines3.common.callbacks import BaseCallback\n",
    "\n",
    "class TrainAndLoggingCallback(BaseCallback):\n",
    "\n",
    "    def __init__(self, check_freq, save_path, verbose=1):\n",
    "        super(TrainAndLoggingCallback, self).__init__(verbose)\n",
    "        self.check_freq = check_freq\n",
    "        self.save_path = save_path\n",
    "\n",
    "    def _init_callback(self):\n",
    "        if self.save_path is not None:\n",
    "            os.makedirs(self.save_path, exist_ok=True)\n",
    "\n",
    "    def _on_step(self):\n",
    "        if self.n_calls % self.check_freq == 0:\n",
    "            model_path = os.path.join(self.save_path, 'best_model_{}'.format(self.n_calls))\n",
    "            self.model.save(model_path)\n",
    "\n",
    "        return True\n",
    "    \n",
    "\n",
    "def show_state(env, ep, step=0, info=\"\"):\n",
    "    plt.figure(3)\n",
    "    plt.clf()\n",
    "    plt.imshow(env.render(mode='rgb_array'))\n",
    "    plt.title(\"Episode %a - Step: %d Info:%s\" % (ep, step, info))\n",
    "    plt.axis('off')\n",
    "\n",
    "    display.clear_output(wait=True)\n",
    "    display.display(plt.gcf())\n",
    "    \n",
    "    \n",
    "def level(world, lev):\n",
    "    env = gym_super_mario_bros.make('SuperMarioBros-' + str(world) + '-' + str(lev) + '-v0')\n",
    "    env = make_env(env)\n",
    "    # Start the game  \n",
    "    state = env.reset() \n",
    "    return env, state\n",
    "  \n",
    " \n",
    "def make_env(env):\n",
    "    # Setup game \n",
    "    env = JoypadSpace(env, SIMPLE_MOVEMENT)\n",
    "    # Set grayscale \n",
    "    env = GrayScaleObservation(env, keep_dim=True)\n",
    "    #Resize to smaller\n",
    "    env = ResizeObservation(env, (56, 56))\n",
    "    # Wrap inside the Dummy Environment\n",
    "    env = DummyVecEnv([lambda: env])\n",
    "    # Stack the frames\n",
    "    env = VecFrameStack(env, 4, channels_order='last')  \n",
    "    return env "
   ]
  },
  {
   "cell_type": "code",
   "execution_count": 8,
   "id": "03bcdb8f",
   "metadata": {},
   "outputs": [],
   "source": [
    "#TRAINING RL MODEL\n",
    "def train_model():\n",
    "    CHECKPOINT_DIR = './train/'\n",
    "    LOG_DIR = './logs/'\n",
    "    \n",
    "    env = gym_super_mario_bros.make('SuperMarioBros-v2')\n",
    "    env = make_env(env)\n",
    "        \n",
    "    # This is the AI model started\n",
    "    model = DQN('CnnPolicy', env, verbose=1, tensorboard_log=LOG_DIR, learning_rate=0.000001) \n",
    "    \n",
    "    # Setup model saving callback\n",
    "    callback = TrainAndLoggingCallback(check_freq=10000, save_path=CHECKPOINT_DIR)\n",
    "\n",
    "    # Train the AI model, this is where the AI model starts to learn\n",
    "    model.learn(total_timesteps=1000000, callback=callback)\n",
    "\n",
    "    model.save('thisisatestmodel')\n",
    " \n",
    "\n",
    "def load_model(model_name):\n",
    "    LOG_DIR = './logs/'\n",
    "    model = DQN('CnnPolicy', env, verbose=1, tensorboard_log=LOG_DIR, learning_rate=0.000001) \n",
    "    model = DQN.load('C://Users//lamps//source//python//mario_dev//' + model_name)\n",
    "    return model, env, state"
   ]
  },
  {
   "cell_type": "code",
   "execution_count": null,
   "id": "a1e70bd6",
   "metadata": {
    "scrolled": true
   },
   "outputs": [],
   "source": [
    "train_model()"
   ]
  },
  {
   "cell_type": "code",
   "execution_count": 9,
   "id": "17cc692c",
   "metadata": {},
   "outputs": [
    {
     "data": {
      "image/png": "[encoded data removed]",
      "text/plain": [
       "<Figure size 432x288 with 1 Axes>"
      ]
     },
     "metadata": {
      "needs_background": "light"
     },
     "output_type": "display_data"
    }
   ],
   "source": [
    "model, env, state = load_model('train//best_model_600000')\n",
    "score = []\n",
    "\n",
    "for i in range(0,400):\n",
    "    step = 0\n",
    "    done = False\n",
    "    time=0\n",
    "    new_position = 0\n",
    "    while (done == False): \n",
    "        action, _ = model.predict(state)\n",
    "        state, reward, done, info = env.step(action)\n",
    "\n",
    "        step = step + 1\n",
    "\n",
    "        if(step%400==0):\n",
    "            if(info[0]['x_pos'] > new_position):\n",
    "                new_position = info[0]['x_pos']\n",
    "            else:\n",
    "                done = True\n",
    "                env.reset()\n",
    "                break\n",
    "                \n",
    "        if done:\n",
    "            display.clear_output(wait=True)        \n",
    "            break\n",
    "        \n",
    "        if(step%3==0):  #buffer to only show every n frame  \n",
    "            show_state(env,i+1,step,info) \n",
    "        \n",
    "        new_position = info[0]['x_pos']\n",
    "        \n",
    "    score.append(new_position)"
   ]
  },
  {
   "cell_type": "code",
   "execution_count": 5,
   "id": "73a57ee5",
   "metadata": {},
   "outputs": [
    {
     "data": {
      "text/plain": [
       "533.355"
      ]
     },
     "execution_count": 5,
     "metadata": {},
     "output_type": "execute_result"
    }
   ],
   "source": [
    "#thisisatestmodel\n",
    "sum = 0\n",
    "for x in score:\n",
    "    sum = sum + x\n",
    "sum/len(score)"
   ]
  },
  {
   "cell_type": "code",
   "execution_count": 10,
   "id": "f9d23364",
   "metadata": {},
   "outputs": [
    {
     "data": {
      "text/plain": [
       "582.2225"
      ]
     },
     "execution_count": 10,
     "metadata": {},
     "output_type": "execute_result"
    }
   ],
   "source": [
    "#450000\n",
    "sum = 0\n",
    "for x in score:\n",
    "    sum = sum + x\n",
    "sum/len(score)"
   ]
  },
  {
   "cell_type": "code",
   "execution_count": null,
   "id": "e13d80b5",
   "metadata": {},
   "outputs": [],
   "source": []
  }
 ],
 "metadata": {
  "kernelspec": {
   "display_name": "Python 3 (ipykernel)",
   "language": "python",
   "name": "python3"
  },
  "language_info": {
   "codemirror_mode": {
    "name": "ipython",
    "version": 3
   },
   "file_extension": ".py",
   "mimetype": "text/x-python",
   "name": "python",
   "nbconvert_exporter": "python",
   "pygments_lexer": "ipython3",
   "version": "3.7.9"
  }
 },
 "nbformat": 4,
 "nbformat_minor": 5
}
